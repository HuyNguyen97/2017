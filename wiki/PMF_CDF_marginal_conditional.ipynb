{
 "cells": [
  {
   "cell_type": "markdown",
   "metadata": {},
   "source": [
    "## Random Variables\n",
    "\n",
    "To link the notion of events such as $E$ and collections of events, or *probability spaces* $\\Omega$ to data, we must introduce the concept of random variables. The following definition is taken from Larry Wasserman's All of Stats.\n",
    "\n",
    "**Definition**. A random variable is a mapping\n",
    "\n",
    "$$ X: \\Omega \\rightarrow \\mathbb{R}$$\n",
    "\n",
    "that assigns a real number $X(\\omega)$ to each outcome $\\omega$. $\\Omega$ is the sample space. Points\n",
    "$\\omega$ in $\\Omega$ are called sample outcomes, realizations, or elements. Subsets of\n",
    "$\\Omega$ are called Events. Say $\\omega = HHTTTTHTT$ then $X(\\omega) = 3$ if defined as number of heads in the sequence $\\omega$.\n",
    "\n",
    "We will assign a real number P(A) to every event A, called the probability of\n",
    "A. We also call P a probability distribution or a probability measure.\n",
    "To qualify as a probability, P must satisfy the three axioms (non-negative, $P(\\Omega)=1$, disjoint probs add)."
   ]
  },
  {
   "cell_type": "markdown",
   "metadata": {},
   "source": [
    "## Marginals and conditionals, and Bayes Theorem\n",
    "\n",
    "The diagram  below taken from Bishop may be used to illustrate the concepts of conditionals and marginals. Consider two random variables, $X$, which takes the values ${x_i}$ where\n",
    "$i = 1,...,M$, and $Y$, which takes the values ${y_j}$ where $j = 1,...,L$. The number of instances for which $X = x_i$ and $Y = y_j$ is $n_{ij}$. The number of points in column i where $X=x_i$ is $c_i$, and for the row where $Y = y_j$ is $r_j$.\n",
    "\n",
    "\n",
    "![m:bishopprob](./images/bishop-prob.png)\n",
    "\n",
    "Then the **joint probability** of having  $p(X = x_i, Y= y_j)$ is in the asymptotic limit of large numbers in the frequency sense of probability $n_{ij}/N$ where is the total number of instances. The $X$ **marginal**,  $p(X=x_i)$ can be obtained by summing instances in all the cells in the  i'th column:\n",
    "\n",
    "$$p(X=x_i) = \\sum_j p(X=x_i, Y=y_j)$$\n",
    "\n",
    "Lets consider next only those instances for which  $X=x_i$. This means that we are limiting our analysis to the ith row. Then, we write the **conditional probability** of $Y = y_j$ given $X = x_i$ as $p(Y = y_j \\mid X = x_i)$. This is the asymptotic fraction of these instances where $Y = y_j$ and is obtained by dividing the instances in the cell by those in the comumn as \n",
    "\n",
    "$$p(Y = y_j \\mid X = x_i) = \\frac{n_{ij}}{c_i}.$$\n",
    "\n",
    "A little algebraic rearrangement gives:\n",
    "\n",
    "$$p(Y = y_j \\mid X = x_i) = \\frac{n_{ij}}{c_i} = \\frac{n_{ij}}{N} / \\frac{c_i}{N},$$\n",
    "\n",
    "or:\n",
    "\n",
    "$$p(Y = y_j \\mid X = x_i) \\times p(X=x_i) =  p(X=x_i, Y=y_j).$$\n",
    "\n",
    "This is the product rule of probability with conditionals involved.\n",
    "\n",
    "Let us simplify the notation by dropping the $X=$ and $Y=$.\n",
    "\n",
    "Then we can write the marginal probability of x as a sum over the joint distribution of x and y where we sum over all possibilities of y,\n",
    "\n",
    "$$p(x) = \\sum_y p(x,y) $$.\n",
    "\n",
    "We can rewrite a joint distribution as a product of a conditional and marginal probability,\n",
    "\n",
    "$$ p(x,y) = p(y\\mid x) p(x) $$\n",
    "\n",
    "The product rule is applied repeatedly to give expressions for the joint\n",
    "probability involving more than two variables. For example, the joint distribution over three\n",
    "variables can be factorized into a product of conditional probabilities:\n",
    "\n",
    "$$ p(x,y,z) = p(x|y,z) \\, p(y,z) = p(x |y,z) \\, p(y|z) p(z) $$\n",
    "\n",
    "### Bayes rule\n",
    "\n",
    "Observe that \n",
    "\n",
    "$$ p(x,y) = p(y\\mid x) p(x) = P(x\\mid y)p(y).$$\n",
    "\n",
    "Given the product rule one can derive the Bayes rule, which plays a central role in a lot of the things we will be talking:\n",
    "\n",
    "$$ p(y\\mid x) = \\frac{p(x\\mid y) \\, p(y) }{p(x)} = \\frac{p(x\\mid y) \\, p(y) }{\\sum_{y'} p(x,y')} = \\frac{p(x\\mid y) \\, p(y) }{\\sum_{y'} p(x\\mid y')p(y')}$$\n",
    "\n",
    "### Independence\n",
    "\n",
    "Two variables are said to be independent if their joint distribution factorizes into a product of two marginal probabilities:\n",
    "\n",
    "$$ p(x,y) = p(x) \\, p(y) $$ \n",
    "\n",
    " Another consequence of independence is that if $x$ and $y$ are independent, the conditional probability of $x$ given $y$ is just the probability of $x$:\n",
    "\n",
    "$$ p(x|y) = p(x) $$\n",
    "\n",
    "In other words, by conditioning on a particular $y$, we have learned nothing about $x$ because of independence. Two variables $x$ and $y$ and said to be conditionally independent of $z$ if the following holds:\n",
    "\n",
    "$$ p(x,y|z) = p(x|z) p(y|z) $$\n",
    "\n",
    "Therefore, if we learn about z, x and y become independent. Another way to write that $x$ and $y$ are conditionally independent of $z$ is \n",
    "\n",
    "$$ p(x| z, y) = p(x|z) $$\n",
    "\n",
    "In other words, if we condition on $z$, and now also learn about $y$, this is not going to change the probability of $x$. It is important to realize that conditional independence between $x$ and $y$ does not imply independence between $x$ and $y$. "
   ]
  },
  {
   "cell_type": "markdown",
   "metadata": {},
   "source": []
  },
  {
   "cell_type": "markdown",
   "metadata": {},
   "source": []
  },
  {
   "cell_type": "code",
   "execution_count": null,
   "metadata": {
    "collapsed": true
   },
   "outputs": [],
   "source": []
  }
 ],
 "metadata": {
  "kernelspec": {
   "display_name": "Python 3",
   "language": "python",
   "name": "python3"
  },
  "language_info": {
   "codemirror_mode": {
    "name": "ipython",
    "version": 3
   },
   "file_extension": ".py",
   "mimetype": "text/x-python",
   "name": "python",
   "nbconvert_exporter": "python",
   "pygments_lexer": "ipython3",
   "version": "3.6.0"
  }
 },
 "nbformat": 4,
 "nbformat_minor": 2
}

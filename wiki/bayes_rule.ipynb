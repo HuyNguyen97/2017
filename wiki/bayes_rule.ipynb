{
 "cells": [
  {
   "cell_type": "markdown",
   "metadata": {},
   "source": [
    "### Bayes rule\n",
    "\n",
    "Observe that \n",
    "\n",
    "$$ p(x,y) = p(y\\mid x) p(x) = P(x\\mid y)p(y).$$\n",
    "\n",
    "Given the product rule one can derive the Bayes rule, which plays a central role in a lot of the things we will be talking:\n",
    "\n",
    "$$ p(y\\mid x) = \\frac{p(x\\mid y) \\, p(y) }{p(x)} = \\frac{p(x\\mid y) \\, p(y) }{\\sum_{y'} p(x,y')} = \\frac{p(x\\mid y) \\, p(y) }{\\sum_{y'} p(x\\mid y')p(y')}$$"
   ]
  },
  {
   "cell_type": "markdown",
   "metadata": {},
   "source": [
    "### Application of Bayes Theorem\n",
    "\n",
    ">Sally Clark, a lawyer who lost her first son at 11 weeks and her second at 8 weeks, was convicted in 1999. A prominent pediatrician, Sir Roy Meadow, had testified for the prosecution about Sudden Infant Death Syndrome, known as SIDS in the U.S. and cot death in Britain. Citing a government study, Meadow said the incidence of one SIDS death was one in 8,500 in a family like Clark’s–stable, affluent, nonsmoking, with a mother more than 26 years old.\n",
    "\n",
    ">Then, despite the fact that some families are predisposed to SIDS, Meadow assumed erroneously that each sibling’s death occurred independently of the other. Multiplying 8,500 by 8,500, he calculated that the chance of two children dying in a family like Sally Clark’s was so rare–one in 73 million–that they must have been murdered.\n",
    "\n",
    "(from http://www.mcgrayne.com/disc.htm)\n",
    "\n",
    "```\n",
    "p(child 1 dying of sids) = 1/8500\n",
    "\n",
    "P(child 2 dying of sids) = 1/100\n",
    "```"
   ]
  },
  {
   "cell_type": "markdown",
   "metadata": {},
   "source": [
    ">First, we look at natural causes of sudden infant death. The chance of one random infant dying from SIDS was about 1 in 1,300 during this period in Britain. Meadow’s argument was flawed and produced a much slimmer chance of natural death. The estimated odds of a second SIDS death in the same family was much larger, perhaps one in 100, because family members can share a common environmental or genetic propensity for SIDS.\n",
    "\n",
    ">Second, we turn to the hypothesis that the babies were murdered. Only about 30 children out of 650,000 annual births in England, Scotland, and Wales were known to have been murdered by their mothers. The number of double murders must be much lower, estimated as 10 times less likely.\n",
    "\n",
    "```\n",
    "p(S2 = both children dying of sids) =  0.000007\n",
    "p(notS2 = not both dying of sids) =  0.999993\n",
    "\n",
    "Data: both children died unexpectedly\n",
    "```\n",
    "\n",
    "So now ask, whats:\n",
    "\n",
    "```\n",
    "p(data | S2) = 1\n",
    "p(data | notS2) = ? both died but not SIDS. Murder? =  30/650000\t× 1/10 = 0.000005\n",
    "```\n",
    "\n",
    "We want to calculate the \"posterior probability\":\n",
    "\n",
    "```\n",
    "p(S2 | data) = P(data | S2) P(S2) /(P(data | S2) P(S2) + P(data|notS2)P(notS2))\n",
    "= 1*0.000007/(1*0.000007 + 0.000005*0.999993)\n",
    "=0.58\n",
    "```\n",
    "\n",
    "58% chance of having died from SIDS!\n",
    "\n",
    "Sally Clark spent **3 years** in jail.\n"
   ]
  },
  {
   "cell_type": "markdown",
   "metadata": {
    "collapsed": true
   },
   "source": []
  }
 ],
 "metadata": {
  "kernelspec": {
   "display_name": "Python 3",
   "language": "python",
   "name": "python3"
  },
  "language_info": {
   "codemirror_mode": {
    "name": "ipython",
    "version": 3
   },
   "file_extension": ".py",
   "mimetype": "text/x-python",
   "name": "python",
   "nbconvert_exporter": "python",
   "pygments_lexer": "ipython3",
   "version": "3.6.0"
  }
 },
 "nbformat": 4,
 "nbformat_minor": 2
}
